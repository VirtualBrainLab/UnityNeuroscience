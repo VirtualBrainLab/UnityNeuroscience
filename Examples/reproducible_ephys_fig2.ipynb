{
 "cells": [
  {
   "cell_type": "code",
   "execution_count": 1,
   "id": "ab18064c-ed63-491b-a4ba-1de2d47659cb",
   "metadata": {},
   "outputs": [
    {
     "name": "stderr",
     "output_type": "stream",
     "text": [
      "C:\\Users\\Dan\\anaconda3\\envs\\iblenv\\lib\\site-packages\\one\\api.py:1242: UserWarning: Newer cache tables require ONE version 1.10.0 or greater\n",
      "  warnings.warn(f'Newer cache tables require ONE version {min_version} or greater')\n"
     ]
    }
   ],
   "source": [
    "import time\n",
    "import numpy as np\n",
    "from ibllib.atlas.regions import BrainRegions\n",
    "from one.api import ONE\n",
    "import ibllib.atlas as atlas\n",
    "import pickle\n",
    "\n",
    "# have to do this because the Examples folder is below the unitymouse folder\n",
    "import sys\n",
    "sys.path.append(\"..\") \n",
    "import unitymouse.render as umr\n",
    "\"\"\"\n",
    "Display all trajectories in one single brain volume\n",
    "Author: Mayo, Gaelle, Dan\n",
    "\"\"\"\n",
    "\n",
    "import numpy as np\n",
    "\n",
    "one = ONE()\n",
    "ba = atlas.AllenAtlas(25)\n"
   ]
  },
  {
   "cell_type": "code",
   "execution_count": 2,
   "id": "3617eaaf-ee44-4067-a40a-234e8e60f555",
   "metadata": {},
   "outputs": [
    {
     "name": "stdout",
     "output_type": "stream",
     "text": [
      "UnityMouse Renderer connected to server\n",
      "Login sent with ID: Dan\n"
     ]
    }
   ],
   "source": [
    "umr.setup(localhost = True, standalone = True)"
   ]
  },
  {
   "cell_type": "code",
   "execution_count": 41,
   "id": "756ca645-456c-4e67-be46-ec72b03b95da",
   "metadata": {},
   "outputs": [],
   "source": [
    "trajectories = one.alyx.rest('trajectories', 'list', provenance='Planned', x=-2243, y=-2000, theta=15,\n",
    "                                   project='ibl_neuropixel_brainwide_01', use_cache=False)"
   ]
  },
  {
   "cell_type": "code",
   "execution_count": 37,
   "id": "ef20a45f-c7a7-41e1-8bc5-117e301e4601",
   "metadata": {},
   "outputs": [],
   "source": [
    "def getCoords(ins):\n",
    "    entry_coords = ba.xyz2ccf(ins.entry)\n",
    "    tip_coords = ba.xyz2ccf(ins.tip)\n",
    "    tip_angles = [ins.phi, ins.theta, ins.beta]\n",
    "    recording_size = np.sqrt(np.sum(np.power(entry_coords-tip_coords,2)))\n",
    "    return (tip_coords, tip_angles, recording_size)"
   ]
  },
  {
   "cell_type": "code",
   "execution_count": 42,
   "id": "f5fdf2b2-da13-44c6-aa2f-e0bc6ff34354",
   "metadata": {},
   "outputs": [],
   "source": [
    "#This block is only needed if you are re-running this from scratch, otherwise just load the .pkl file\n",
    "\n",
    "# Pull the micro-manip and histology tracks for each of these recordings\n",
    "data = {}\n",
    "\n",
    "\n",
    "\n",
    "for traj in trajectories:\n",
    "    pid = traj['probe_insertion']\n",
    "    \n",
    "    \n",
    "    traj_histology = one.alyx.rest('trajectories', 'list',\n",
    "        provenance='Ephys aligned histology track',\n",
    "        probe_insertion=pid, use_cache=False)\n",
    "\n",
    "    if len(traj_histology) == 0:\n",
    "        traj_histology = one.alyx.rest('trajectories', 'list', provenance='Histology track',\n",
    "            probe_insertion=pid, use_cache=False)\n",
    "        \n",
    "    traj_micro = one.alyx.rest('trajectories', 'list',\n",
    "        provenance='Micro-manipulator',\n",
    "        probe_insertion=pid, use_cahce=False)\n",
    "\n",
    "    # skip any sessions that we are missing histology for\n",
    "    if len(traj_histology) == 0:\n",
    "        continue\n",
    "\n",
    "    if not traj_histology[0]['x']:\n",
    "        continue\n",
    "\n",
    "    ins_planned = atlas.Insertion.from_dict(traj)\n",
    "    ins_micro = atlas.Insertion.from_dict(traj_histology[0])\n",
    "    ins_histology = atlas.Insertion.from_dict(traj_micro[0])\n",
    "    \n",
    "    \n",
    "\n",
    "    data[pid] = {}\n",
    "    data[pid]['planned'] = getCoords(ins_planned)\n",
    "    data[pid]['micro-manip'] = getCoords(ins_micro)\n",
    "    data[pid]['histology'] = getCoords(ins_histology)\n",
    "    \n",
    "pickle.dump(data,open( './data/gaelle/ibl_repro_ephys_traj.pkl', \"wb\" ))"
   ]
  },
  {
   "cell_type": "code",
   "execution_count": 3,
   "id": "40e9eddd-2087-4501-a3e4-8f7f40ca5066",
   "metadata": {},
   "outputs": [],
   "source": [
    "data = pickle.load( open( \"./data/gaelle/ibl_repro_ephys_traj.pkl\", \"rb\" ) )\n"
   ]
  },
  {
   "cell_type": "code",
   "execution_count": 4,
   "id": "d05626c1-f066-4516-9761-85cfc5dfe43d",
   "metadata": {},
   "outputs": [],
   "source": [
    "import random\n",
    "r = lambda: random.randint(0,255)\n",
    "randHexColor = lambda : '#%02X%02X%02X' % (r(),r(),r())"
   ]
  },
  {
   "cell_type": "code",
   "execution_count": 5,
   "id": "210797b7-ace3-4b2a-a545-5fe6df4f60d3",
   "metadata": {},
   "outputs": [
    {
     "ename": "AttributeError",
     "evalue": "module 'unitymouse.render' has no attribute 'set_area_visibility'",
     "output_type": "error",
     "traceback": [
      "\u001b[1;31m---------------------------------------------------------------------------\u001b[0m",
      "\u001b[1;31mAttributeError\u001b[0m                            Traceback (most recent call last)",
      "Input \u001b[1;32mIn [5]\u001b[0m, in \u001b[0;36m<module>\u001b[1;34m\u001b[0m\n\u001b[0;32m      3\u001b[0m count \u001b[38;5;241m=\u001b[39m \u001b[38;5;241m0\u001b[39m\n\u001b[0;32m      5\u001b[0m vdata \u001b[38;5;241m=\u001b[39m {\u001b[38;5;124m'\u001b[39m\u001b[38;5;124mVISa\u001b[39m\u001b[38;5;124m'\u001b[39m: \u001b[38;5;28;01mTrue\u001b[39;00m, \u001b[38;5;124m'\u001b[39m\u001b[38;5;124mCA1\u001b[39m\u001b[38;5;124m'\u001b[39m: \u001b[38;5;28;01mTrue\u001b[39;00m, \u001b[38;5;124m'\u001b[39m\u001b[38;5;124mDG\u001b[39m\u001b[38;5;124m'\u001b[39m: \u001b[38;5;28;01mTrue\u001b[39;00m, \u001b[38;5;124m'\u001b[39m\u001b[38;5;124mLP\u001b[39m\u001b[38;5;124m'\u001b[39m: \u001b[38;5;28;01mTrue\u001b[39;00m, \u001b[38;5;124m'\u001b[39m\u001b[38;5;124mPO\u001b[39m\u001b[38;5;124m'\u001b[39m: \u001b[38;5;28;01mTrue\u001b[39;00m}\n\u001b[1;32m----> 6\u001b[0m \u001b[43mumr\u001b[49m\u001b[38;5;241;43m.\u001b[39;49m\u001b[43mset_area_visibility\u001b[49m(vdata)\n\u001b[0;32m      7\u001b[0m vdata \u001b[38;5;241m=\u001b[39m {\u001b[38;5;124m'\u001b[39m\u001b[38;5;124mVISa\u001b[39m\u001b[38;5;124m'\u001b[39m: \u001b[38;5;124m'\u001b[39m\u001b[38;5;124mdefault\u001b[39m\u001b[38;5;124m'\u001b[39m, \u001b[38;5;124m'\u001b[39m\u001b[38;5;124mCA1\u001b[39m\u001b[38;5;124m'\u001b[39m: \u001b[38;5;124m'\u001b[39m\u001b[38;5;124mdefault\u001b[39m\u001b[38;5;124m'\u001b[39m, \u001b[38;5;124m'\u001b[39m\u001b[38;5;124mDG\u001b[39m\u001b[38;5;124m'\u001b[39m: \u001b[38;5;124m'\u001b[39m\u001b[38;5;124mdefault\u001b[39m\u001b[38;5;124m'\u001b[39m, \u001b[38;5;124m'\u001b[39m\u001b[38;5;124mLP\u001b[39m\u001b[38;5;124m'\u001b[39m: \u001b[38;5;124m'\u001b[39m\u001b[38;5;124mdefault\u001b[39m\u001b[38;5;124m'\u001b[39m, \u001b[38;5;124m'\u001b[39m\u001b[38;5;124mPO\u001b[39m\u001b[38;5;124m'\u001b[39m: \u001b[38;5;124m'\u001b[39m\u001b[38;5;124mdefault\u001b[39m\u001b[38;5;124m'\u001b[39m}\n\u001b[0;32m      8\u001b[0m umr\u001b[38;5;241m.\u001b[39mset_area_shader(vdata)\n",
      "\u001b[1;31mAttributeError\u001b[0m: module 'unitymouse.render' has no attribute 'set_area_visibility'"
     ]
    }
   ],
   "source": [
    "# VIEW 1: Probe positions planned vs micro-manipulator\n",
    "umr.clear()\n",
    "count = 0\n",
    "\n",
    "vdata = {'VISa': True, 'CA1': True, 'DG': True, 'LP': True, 'PO': True}\n",
    "umr.set_area_visibility(vdata)\n",
    "vdata = {'VISa': 'default', 'CA1': 'default', 'DG': 'default', 'LP': 'default', 'PO': 'default'}\n",
    "umr.set_area_shader(vdata)\n",
    "vdata = {'VISa': 0.4, 'CA1': 0.4, 'DG': 0.4, 'LP': 0.4, 'PO': 0.4}\n",
    "umr.set_area_alpha(vdata)\n",
    "\n",
    "for i, (pid, trajs) in enumerate(data.items()):\n",
    "    print(pid)\n",
    "    for j, (traj_type, traj) in enumerate(trajs.items()):\n",
    "        if traj_type == \"planned\":\n",
    "            probename = 'p'+str(count)\n",
    "            \n",
    "            tip_coords = traj[0]\n",
    "            tip_angles = traj[1]\n",
    "            recording_size = traj[2]\n",
    "\n",
    "            count+=1\n",
    "            umr.create_probes([probename])\n",
    "            umr.set_probe_positions({probename:tip_coords.tolist()})\n",
    "            umr.set_probe_colors({probename:'#F28C28'})\n",
    "            umr.set_probe_angles({probename:tip_angles})\n",
    "            umr.set_probe_size({probename:[0.07,recording_size/1000,0.02]})\n"
   ]
  },
  {
   "cell_type": "code",
   "execution_count": 23,
   "id": "4da99a77-a002-485d-af6c-f00d174b0034",
   "metadata": {},
   "outputs": [],
   "source": [
    "umr.clear()\n",
    "umr.set_allen_volume_visibility(True)\n",
    "\n",
    "# temp_traj_rep = [traj_rep[0]]\n",
    "count = 0\n",
    "\n",
    "for i, (pid, traj) in enumerate(data.items()):\n",
    "    tip_coords = traj[0]\n",
    "    tip_angles = traj[1]\n",
    "    recording_size = traj[2]\n",
    "    \n",
    "    probename = 'p'+str(count)\n",
    "    count+=1\n",
    "    umr.create_probes([probename])\n",
    "    umr.set_probe_positions({probename:tip_coords.tolist()})\n",
    "    umr.set_probe_colors({probename:'#F28C28'})\n",
    "    umr.set_probe_angles({probename:tip_angles})\n",
    "    umr.set_probe_size({probename:[0.07,recording_size/1000,0.02]})\n",
    "\n",
    "vdata = {'VISa': True, 'CA1': True, 'DG': True, 'LP': True, 'PO': True}\n",
    "umr.set_volume_visibility(vdata)\n",
    "vdata = {'VISa': 'default', 'CA1': 'default', 'DG': 'default', 'LP': 'default', 'PO': 'default'}\n",
    "umr.set_volume_shader(vdata)\n",
    "vdata = {'VISa': 0.4, 'CA1': 0.4, 'DG': 0.4, 'LP': 0.4, 'PO': 0.4}\n",
    "umr.set_volume_alpha(vdata)\n",
    "\n",
    "# # for some reason 'root' doesn't work?\n",
    "# umr.set_volume_visibility({8:True})\n",
    "# umr.set_volume_shader({8:'transparent-unlit'})\n",
    "# umr.set_volume_color({8:'#000000'})\n",
    "# umr.set_volume_alpha({8:0.025})"
   ]
  },
  {
   "cell_type": "code",
   "execution_count": 15,
   "id": "0f1406e5-fe12-4198-843a-63614512a96f",
   "metadata": {},
   "outputs": [
    {
     "name": "stdout",
     "output_type": "stream",
     "text": [
      "UnityMouse Renderer connected to server\n",
      "Login sent with ID: Dan\n"
     ]
    }
   ],
   "source": [
    "umr.close()"
   ]
  },
  {
   "cell_type": "code",
   "execution_count": null,
   "id": "06e2d89f-6838-4b26-acc4-0406adcf3962",
   "metadata": {},
   "outputs": [],
   "source": []
  }
 ],
 "metadata": {
  "kernelspec": {
   "display_name": "Python 3 (ipykernel)",
   "language": "python",
   "name": "python3"
  },
  "language_info": {
   "codemirror_mode": {
    "name": "ipython",
    "version": 3
   },
   "file_extension": ".py",
   "mimetype": "text/x-python",
   "name": "python",
   "nbconvert_exporter": "python",
   "pygments_lexer": "ipython3",
   "version": "3.9.9"
  }
 },
 "nbformat": 4,
 "nbformat_minor": 5
}
