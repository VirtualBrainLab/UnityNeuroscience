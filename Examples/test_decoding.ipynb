{
 "cells": [
  {
   "cell_type": "code",
   "execution_count": 1,
   "id": "eca1bdc9-bb77-47f8-91c4-8a3a7c3337c3",
   "metadata": {},
   "outputs": [],
   "source": [
    "import numpy as np\n",
    "import unitymouse.render as umr\n",
    "import matplotlib.pyplot as plt"
   ]
  },
  {
   "cell_type": "code",
   "execution_count": 2,
   "id": "ae8142dd-9670-4a11-81c4-8ff8e15213e3",
   "metadata": {},
   "outputs": [
    {
     "name": "stdout",
     "output_type": "stream",
     "text": [
      "UnityMouse Renderer connected to server\n",
      "Login sent with ID: Dan\n"
     ]
    }
   ],
   "source": [
    "umr.setup()"
   ]
  },
  {
   "cell_type": "code",
   "execution_count": 3,
   "id": "a1d95492-de64-48ce-b0c0-8a0d6e7de7e4",
   "metadata": {},
   "outputs": [],
   "source": [
    "block = np.load('./block_brain_area.npy')\n",
    "choice = np.load('./choice_brain_area.npy')\n",
    "visual = np.load('./visual_brain_area.npy')\n",
    "id = np.load('./id_brain_area.npy')"
   ]
  },
  {
   "cell_type": "code",
   "execution_count": 7,
   "id": "1f8201a7-17dd-4752-a29c-5aa46c88087d",
   "metadata": {},
   "outputs": [
    {
     "data": {
      "text/plain": [
       "0.0"
      ]
     },
     "execution_count": 7,
     "metadata": {},
     "output_type": "execute_result"
    }
   ],
   "source": [
    "np.min(block)"
   ]
  },
  {
   "cell_type": "code",
   "execution_count": 10,
   "id": "f43cf346-ee46-4ac2-8148-5459f0aa023a",
   "metadata": {},
   "outputs": [
    {
     "data": {
      "text/plain": [
       "0.21428571428571427"
      ]
     },
     "execution_count": 10,
     "metadata": {},
     "output_type": "execute_result"
    }
   ],
   "source": [
    "np.max(visual)"
   ]
  },
  {
   "cell_type": "code",
   "execution_count": 19,
   "id": "bf9cacd0-f471-4803-9c51-ddbc71f83f55",
   "metadata": {},
   "outputs": [
    {
     "data": {
      "text/plain": [
       "91"
      ]
     },
     "execution_count": 19,
     "metadata": {},
     "output_type": "execute_result"
    }
   ],
   "source": [
    "v[0]"
   ]
  },
  {
   "cell_type": "code",
   "execution_count": 5,
   "id": "5be054f5-05f6-422c-adfe-54ee12f234d8",
   "metadata": {},
   "outputs": [
    {
     "name": "stdout",
     "output_type": "stream",
     "text": [
      "UnityMouse Renderer disconnected from server\n",
      "UnityMouse Renderer connected to server\n",
      "Login sent with ID: Dan\n"
     ]
    }
   ],
   "source": [
    "umr.clear()\n",
    "\n",
    "visData = {}\n",
    "shaderData = {}\n",
    "alphaData = {}\n",
    "\n",
    "maxVal = np.max(visual)\n",
    "\n",
    "for i,v in enumerate(id):\n",
    "    sv = str(v[0])\n",
    "    visData[sv] = True\n",
    "    shaderData[sv] = 'transparent-lit'\n",
    "    alphaData[sv] = np.sqrt(visual[i][0])\n",
    "\n",
    "umr.set_volume_visibility(visData)\n",
    "# umr.set_volume_style(sideData)\n",
    "# umr.set_volume_intensity(intensityData)\n",
    "umr.set_volume_shader(shaderData)\n",
    "umr.set_volume_alpha(alphaData)\n",
    "# vdata = {'VISa': 'transparent', 'CA1': 'transparent', 'DG': 'transparent', 'LP': 'transparent', 'PO': 'transparent'}\n",
    "# umr.set_volume_shader(vdata)\n",
    "# vdata = {'VISa': 0.4, 'CA1': 0.4, 'DG': 0.4, 'LP': 0.4, 'PO': 0.4}\n",
    "# umr.set_volume_alpha(vdata)"
   ]
  },
  {
   "cell_type": "code",
   "execution_count": null,
   "id": "e858897b-e642-49a0-924f-b891dd7cb682",
   "metadata": {},
   "outputs": [],
   "source": []
  },
  {
   "cell_type": "code",
   "execution_count": null,
   "id": "201a85cd-5b48-4a12-a3e8-cca76916d07e",
   "metadata": {},
   "outputs": [],
   "source": []
  },
  {
   "cell_type": "code",
   "execution_count": null,
   "id": "03934d27-d985-4c67-95c1-d5b35f8995af",
   "metadata": {},
   "outputs": [],
   "source": []
  }
 ],
 "metadata": {
  "kernelspec": {
   "display_name": "Python 3 (ipykernel)",
   "language": "python",
   "name": "python3"
  },
  "language_info": {
   "codemirror_mode": {
    "name": "ipython",
    "version": 3
   },
   "file_extension": ".py",
   "mimetype": "text/x-python",
   "name": "python",
   "nbconvert_exporter": "python",
   "pygments_lexer": "ipython3",
   "version": "3.9.9"
  }
 },
 "nbformat": 4,
 "nbformat_minor": 5
}
