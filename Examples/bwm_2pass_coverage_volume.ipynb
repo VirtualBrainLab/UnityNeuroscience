{
 "cells": [
  {
   "cell_type": "code",
   "execution_count": 1,
   "id": "d216df9b-18e7-4a1a-b02d-456cf1cadf92",
   "metadata": {},
   "outputs": [],
   "source": [
    "import nrrd\n",
    "import numpy as np\n",
    "import matplotlib.pyplot as plt\n",
    "import sys\n",
    "sys.path.append('..')\n",
    "import unitymouse.render as umr"
   ]
  },
  {
   "cell_type": "code",
   "execution_count": 2,
   "id": "bde53df2-6e85-416a-b163-c4c703b4c164",
   "metadata": {},
   "outputs": [
    {
     "name": "stdout",
     "output_type": "stream",
     "text": [
      "UnityMouse Renderer connected to server\n",
      "Login sent with ID: Dan\n"
     ]
    }
   ],
   "source": [
    "umr.setup(localhost = True, standalone = True)"
   ]
  },
  {
   "cell_type": "code",
   "execution_count": 3,
   "id": "3e24d684-d973-4e35-803d-4d33619fb972",
   "metadata": {},
   "outputs": [],
   "source": [
    "# Now build the IBL coverage map\n",
    "# from needles2.probe_model import ProbeModel\n",
    "\n",
    "# res = 25\n",
    "# pr = ProbeModel(res=res)\n",
    "# pr.initialise()\n",
    "# pr.compute_best_for_provenance(provenance='Histology track')\n",
    "# coverage = pr.report_coverage(provenance='Best', dist=354)\n",
    "# coverage = coverage.swapaxes(1,2)\n",
    "# np.save('./data/gaelle/coverage.npy',coverage)"
   ]
  },
  {
   "cell_type": "code",
   "execution_count": 4,
   "id": "2f572392-c06d-4801-bb83-5f60e9d0825f",
   "metadata": {},
   "outputs": [],
   "source": [
    "coverage = np.load('./data/gaelle/coverage.npy')"
   ]
  },
  {
   "cell_type": "code",
   "execution_count": 5,
   "id": "48e23edf-2f27-4f92-8486-64c20835897e",
   "metadata": {
    "tags": []
   },
   "outputs": [
    {
     "data": {
      "text/plain": [
       "<matplotlib.image.AxesImage at 0x23ea8c26d30>"
      ]
     },
     "execution_count": 5,
     "metadata": {},
     "output_type": "execute_result"
    },
    {
     "data": {
      "image/png": "[encoded data removed]",
      "text/plain": [
       "<Figure size 432x288 with 1 Axes>"
      ]
     },
     "metadata": {
      "needs_background": "light"
     },
     "output_type": "display_data"
    }
   ],
   "source": [
    "plt.imshow(coverage[250,:,:])"
   ]
  },
  {
   "cell_type": "code",
   "execution_count": 8,
   "id": "56fae9b4-9f7c-484c-a9b8-38d8413ec83c",
   "metadata": {},
   "outputs": [
    {
     "name": "stdout",
     "output_type": "stream",
     "text": [
      "UnityMouse Renderer disconnected from server\n",
      "UnityMouse Renderer connected to server\n",
      "Login sent with ID: Dan\n"
     ]
    }
   ],
   "source": [
    "umr.clear()\n",
    "umr.create_volume(\"coverage\")\n",
    "umr.set_volume_colormap([\"coverage\", \"#000000\", \"#FFFF00\", \"#00FF00\"])\n",
    "umr.set_volume_data(\"coverage\", coverage.copy())\n",
    "umr.set_volume_visibility(\"coverage\",True)"
   ]
  },
  {
   "cell_type": "code",
   "execution_count": 15,
   "id": "6523e19f-cfcb-49c5-9ce3-9310d29b2fae",
   "metadata": {},
   "outputs": [],
   "source": [
    "temp = coverage.copy()\n",
    "b = temp[:,:,250].tobytes()"
   ]
  },
  {
   "cell_type": "code",
   "execution_count": 17,
   "id": "724254d5-79ce-4098-a221-5fc0672a389f",
   "metadata": {},
   "outputs": [
    {
     "data": {
      "text/plain": [
       "bytes"
      ]
     },
     "execution_count": 17,
     "metadata": {},
     "output_type": "execute_result"
    }
   ],
   "source": [
    "type(b)"
   ]
  },
  {
   "cell_type": "code",
   "execution_count": 7,
   "id": "148067bf-0db7-4060-8399-c5f63297f891",
   "metadata": {},
   "outputs": [
    {
     "data": {
      "text/plain": [
       "168960"
      ]
     },
     "execution_count": 7,
     "metadata": {},
     "output_type": "execute_result"
    }
   ],
   "source": [
    "528*320"
   ]
  },
  {
   "cell_type": "code",
   "execution_count": null,
   "id": "b88b3f68-f4c7-4e73-819f-7fc7e3ddcfce",
   "metadata": {},
   "outputs": [],
   "source": []
  }
 ],
 "metadata": {
  "kernelspec": {
   "display_name": "Python 3 (ipykernel)",
   "language": "python",
   "name": "python3"
  },
  "language_info": {
   "codemirror_mode": {
    "name": "ipython",
    "version": 3
   },
   "file_extension": ".py",
   "mimetype": "text/x-python",
   "name": "python",
   "nbconvert_exporter": "python",
   "pygments_lexer": "ipython3",
   "version": "3.9.9"
  }
 },
 "nbformat": 4,
 "nbformat_minor": 5
}
