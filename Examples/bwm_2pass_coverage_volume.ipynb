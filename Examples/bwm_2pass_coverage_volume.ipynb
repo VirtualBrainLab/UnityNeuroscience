{
 "cells": [
  {
   "cell_type": "code",
   "execution_count": 1,
   "id": "d216df9b-18e7-4a1a-b02d-456cf1cadf92",
   "metadata": {},
   "outputs": [],
   "source": [
    "import nrrd\n",
    "import numpy as np\n",
    "import matplotlib.pyplot as plt\n",
    "import sys\n",
    "import unityneuro.render as urn"
   ]
  },
  {
   "cell_type": "code",
   "execution_count": 12,
   "id": "0cf4fe4d-5f22-455b-a571-9c5abbae6ba1",
   "metadata": {},
   "outputs": [
    {
     "name": "stdout",
     "output_type": "stream",
     "text": [
      "(URN) disconnected from server\n"
     ]
    }
   ],
   "source": [
    "urn.close()"
   ]
  },
  {
   "cell_type": "code",
   "execution_count": 2,
   "id": "bde53df2-6e85-416a-b163-c4c703b4c164",
   "metadata": {},
   "outputs": [
    {
     "name": "stdout",
     "output_type": "stream",
     "text": [
      "(URN) connected to server\n",
      "Login sent with ID: Dan\n"
     ]
    }
   ],
   "source": [
    "urn.setup()"
   ]
  },
  {
   "cell_type": "code",
   "execution_count": 4,
   "id": "3e24d684-d973-4e35-803d-4d33619fb972",
   "metadata": {},
   "outputs": [
    {
     "name": "stdout",
     "output_type": "stream",
     "text": [
      "13.466669082641602\n",
      "12.982110977172852\n",
      "0.02500605583190918\n",
      "21.842421531677246\n",
      "0.01750969886779785\n",
      "0.011002779006958008\n",
      "0.012003183364868164\n",
      "0.06206250190734863\n",
      "0.0\n",
      "0.03656307129798903\n",
      "0.07312614259597806\n",
      "0.10968921389396709\n",
      "0.14625228519195613\n",
      "0.18281535648994515\n",
      "0.21937842778793418\n",
      "0.25594149908592323\n",
      "0.29250457038391225\n",
      "0.3290676416819013\n",
      "0.3656307129798903\n",
      "0.40219378427787933\n",
      "0.43875685557586835\n",
      "0.4753199268738574\n",
      "0.5118829981718465\n",
      "0.5484460694698354\n",
      "0.5850091407678245\n",
      "0.6215722120658135\n",
      "0.6581352833638026\n",
      "0.6946983546617916\n",
      "0.7312614259597806\n",
      "0.7678244972577697\n",
      "0.8043875685557587\n",
      "0.8409506398537477\n",
      "0.8775137111517367\n",
      "0.9140767824497258\n",
      "0.9506398537477148\n",
      "0.9872029250457038\n"
     ]
    }
   ],
   "source": [
    "# Now build the IBL coverage map\n",
    "from needles2.probe_model import ProbeModel\n",
    "\n",
    "res = 25\n",
    "pr = ProbeModel(res=res)\n",
    "pr.initialise()\n",
    "pr.compute_best_for_provenance(provenance='Histology track')\n",
    "coverage = pr.report_coverage(provenance='Best', dist=100)\n",
    "coverage = coverage.swapaxes(1,2)\n",
    "# np.save('./data/gaelle/coverage.npy',coverage)"
   ]
  },
  {
   "cell_type": "code",
   "execution_count": null,
   "id": "2f572392-c06d-4801-bb83-5f60e9d0825f",
   "metadata": {},
   "outputs": [],
   "source": [
    "coverage = np.load('./data/gaelle/coverage.npy')"
   ]
  },
  {
   "cell_type": "code",
   "execution_count": 5,
   "id": "48e23edf-2f27-4f92-8486-64c20835897e",
   "metadata": {
    "tags": []
   },
   "outputs": [
    {
     "data": {
      "text/plain": [
       "<matplotlib.image.AxesImage at 0x13e153c5b50>"
      ]
     },
     "execution_count": 5,
     "metadata": {},
     "output_type": "execute_result"
    },
    {
     "data": {
      "image/png": "[encoded data removed]",
      "text/plain": [
       "<Figure size 432x288 with 1 Axes>"
      ]
     },
     "metadata": {
      "needs_background": "light"
     },
     "output_type": "display_data"
    },
    {
     "name": "stdout",
     "output_type": "stream",
     "text": [
      "(URN) disconnected from server\n",
      "(URN) connected to server\n",
      "Login sent with ID: Dan\n"
     ]
    },
    {
     "name": "stderr",
     "output_type": "stream",
     "text": [
      "packet queue is empty, aborting\n"
     ]
    },
    {
     "name": "stdout",
     "output_type": "stream",
     "text": [
      "(URN) disconnected from server\n",
      "(URN) connected to server\n",
      "Login sent with ID: Dan\n"
     ]
    },
    {
     "name": "stderr",
     "output_type": "stream",
     "text": [
      "packet queue is empty, aborting\n"
     ]
    },
    {
     "name": "stdout",
     "output_type": "stream",
     "text": [
      "(URN) disconnected from server\n",
      "(URN) connected to server\n",
      "Login sent with ID: Dan\n"
     ]
    }
   ],
   "source": [
    "plt.imshow(coverage[240,:,:])"
   ]
  },
  {
   "cell_type": "code",
   "execution_count": 14,
   "id": "56fae9b4-9f7c-484c-a9b8-38d8413ec83c",
   "metadata": {},
   "outputs": [
    {
     "name": "stderr",
     "output_type": "stream",
     "text": [
      "packet queue is empty, aborting\n"
     ]
    },
    {
     "name": "stdout",
     "output_type": "stream",
     "text": [
      "(URN) disconnected from server\n",
      "(URN) connected to server\n",
      "Login sent with ID: Dan\n",
      "(URN) disconnected from server\n",
      "(URN) connected to server\n",
      "Login sent with ID: Dan\n"
     ]
    },
    {
     "name": "stderr",
     "output_type": "stream",
     "text": [
      "packet queue is empty, aborting\n"
     ]
    },
    {
     "name": "stdout",
     "output_type": "stream",
     "text": [
      "(URN) disconnected from server\n",
      "(URN) connected to server\n",
      "Login sent with ID: Dan\n",
      "(URN) disconnected from server\n",
      "(URN) connected to server\n",
      "Login sent with ID: Dan\n",
      "(URN) disconnected from server\n",
      "(URN) connected to server\n",
      "Login sent with ID: Dan\n"
     ]
    },
    {
     "name": "stderr",
     "output_type": "stream",
     "text": [
      "packet queue is empty, aborting\n"
     ]
    },
    {
     "name": "stdout",
     "output_type": "stream",
     "text": [
      "(URN) disconnected from server\n",
      "(URN) connected to server\n",
      "Login sent with ID: Dan\n",
      "(URN) disconnected from server\n",
      "(URN) connected to server\n",
      "Login sent with ID: Dan\n",
      "(URN) disconnected from server\n",
      "(URN) connected to server\n",
      "Login sent with ID: Dan\n"
     ]
    }
   ],
   "source": [
    "urn.clear()\n",
    "urn.create_volume(\"coverage\")\n",
    "urn.set_volume_colormap(\"coverage\", [\"#00000080\", \"#FFFF00FF\", \"#00FF00FF\"])\n",
    "urn.set_volume_data(\"coverage\", coverage)\n",
    "urn.set_volume_visibility(\"coverage\",True)"
   ]
  },
  {
   "cell_type": "code",
   "execution_count": null,
   "id": "86960634-743b-410c-85c5-13775bf895a3",
   "metadata": {},
   "outputs": [],
   "source": []
  }
 ],
 "metadata": {
  "kernelspec": {
   "display_name": "Python 3 (ipykernel)",
   "language": "python",
   "name": "python3"
  },
  "language_info": {
   "codemirror_mode": {
    "name": "ipython",
    "version": 3
   },
   "file_extension": ".py",
   "mimetype": "text/x-python",
   "name": "python",
   "nbconvert_exporter": "python",
   "pygments_lexer": "ipython3",
   "version": "3.9.9"
  }
 },
 "nbformat": 4,
 "nbformat_minor": 5
}
