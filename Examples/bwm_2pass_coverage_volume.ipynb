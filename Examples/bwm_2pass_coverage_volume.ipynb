{
 "cells": [
  {
   "cell_type": "code",
   "execution_count": 1,
   "id": "d216df9b-18e7-4a1a-b02d-456cf1cadf92",
   "metadata": {},
   "outputs": [],
   "source": [
    "import nrrd\n",
    "import numpy as np\n",
    "import matplotlib.pyplot as plt\n",
    "import sys\n",
    "import unityneuro.render as urn"
   ]
  },
  {
   "cell_type": "code",
   "execution_count": 13,
   "id": "bde53df2-6e85-416a-b163-c4c703b4c164",
   "metadata": {},
   "outputs": [
    {
     "name": "stdout",
     "output_type": "stream",
     "text": [
      "(URN) connected to server\n",
      "Login sent with ID: Dan\n"
     ]
    }
   ],
   "source": [
    "urn.setup()"
   ]
  },
  {
   "cell_type": "code",
   "execution_count": 12,
   "id": "0cf4fe4d-5f22-455b-a571-9c5abbae6ba1",
   "metadata": {},
   "outputs": [
    {
     "name": "stdout",
     "output_type": "stream",
     "text": [
      "(URN) disconnected from server\n"
     ]
    }
   ],
   "source": [
    "urn.close()"
   ]
  },
  {
   "cell_type": "code",
   "execution_count": 3,
   "id": "3e24d684-d973-4e35-803d-4d33619fb972",
   "metadata": {},
   "outputs": [],
   "source": [
    "# Now build the IBL coverage map\n",
    "# from needles2.probe_model import ProbeModel\n",
    "\n",
    "# res = 25\n",
    "# pr = ProbeModel(res=res)\n",
    "# pr.initialise()\n",
    "# pr.compute_best_for_provenance(provenance='Histology track')\n",
    "# coverage = pr.report_coverage(provenance='Best', dist=354)\n",
    "# coverage = coverage.swapaxes(1,2)\n",
    "# np.save('./data/gaelle/coverage.npy',coverage)"
   ]
  },
  {
   "cell_type": "code",
   "execution_count": 3,
   "id": "2f572392-c06d-4801-bb83-5f60e9d0825f",
   "metadata": {},
   "outputs": [],
   "source": [
    "coverage = np.load('./data/gaelle/coverage.npy')"
   ]
  },
  {
   "cell_type": "code",
   "execution_count": 4,
   "id": "48e23edf-2f27-4f92-8486-64c20835897e",
   "metadata": {
    "tags": []
   },
   "outputs": [
    {
     "data": {
      "text/plain": [
       "<matplotlib.image.AxesImage at 0x228aae65fa0>"
      ]
     },
     "execution_count": 4,
     "metadata": {},
     "output_type": "execute_result"
    },
    {
     "data": {
      "image/png": "[encoded data removed]",
      "text/plain": [
       "<Figure size 432x288 with 1 Axes>"
      ]
     },
     "metadata": {
      "needs_background": "light"
     },
     "output_type": "display_data"
    }
   ],
   "source": [
    "plt.imshow(coverage[240,:,:])"
   ]
  },
  {
   "cell_type": "code",
   "execution_count": 14,
   "id": "56fae9b4-9f7c-484c-a9b8-38d8413ec83c",
   "metadata": {},
   "outputs": [
    {
     "name": "stderr",
     "output_type": "stream",
     "text": [
      "packet queue is empty, aborting\n"
     ]
    },
    {
     "name": "stdout",
     "output_type": "stream",
     "text": [
      "(URN) disconnected from server\n",
      "(URN) connected to server\n",
      "Login sent with ID: Dan\n",
      "(URN) disconnected from server\n",
      "(URN) connected to server\n",
      "Login sent with ID: Dan\n"
     ]
    },
    {
     "name": "stderr",
     "output_type": "stream",
     "text": [
      "packet queue is empty, aborting\n"
     ]
    },
    {
     "name": "stdout",
     "output_type": "stream",
     "text": [
      "(URN) disconnected from server\n",
      "(URN) connected to server\n",
      "Login sent with ID: Dan\n",
      "(URN) disconnected from server\n",
      "(URN) connected to server\n",
      "Login sent with ID: Dan\n",
      "(URN) disconnected from server\n",
      "(URN) connected to server\n",
      "Login sent with ID: Dan\n"
     ]
    },
    {
     "name": "stderr",
     "output_type": "stream",
     "text": [
      "packet queue is empty, aborting\n"
     ]
    },
    {
     "name": "stdout",
     "output_type": "stream",
     "text": [
      "(URN) disconnected from server\n",
      "(URN) connected to server\n",
      "Login sent with ID: Dan\n",
      "(URN) disconnected from server\n",
      "(URN) connected to server\n",
      "Login sent with ID: Dan\n",
      "(URN) disconnected from server\n",
      "(URN) connected to server\n",
      "Login sent with ID: Dan\n"
     ]
    }
   ],
   "source": [
    "urn.clear()\n",
    "urn.create_volume(\"coverage\")\n",
    "urn.set_volume_colormap(\"coverage\", [\"#00000080\", \"#FFFF00FF\", \"#00FF00FF\"])\n",
    "urn.set_volume_data(\"coverage\", coverage)\n",
    "urn.set_volume_visibility(\"coverage\",True)"
   ]
  },
  {
   "cell_type": "code",
   "execution_count": null,
   "id": "86960634-743b-410c-85c5-13775bf895a3",
   "metadata": {},
   "outputs": [],
   "source": []
  }
 ],
 "metadata": {
  "kernelspec": {
   "display_name": "Python 3 (ipykernel)",
   "language": "python",
   "name": "python3"
  },
  "language_info": {
   "codemirror_mode": {
    "name": "ipython",
    "version": 3
   },
   "file_extension": ".py",
   "mimetype": "text/x-python",
   "name": "python",
   "nbconvert_exporter": "python",
   "pygments_lexer": "ipython3",
   "version": "3.9.9"
  }
 },
 "nbformat": 4,
 "nbformat_minor": 5
}
