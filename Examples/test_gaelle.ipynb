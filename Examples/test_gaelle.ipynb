{
 "cells": [
  {
   "cell_type": "code",
   "execution_count": 1,
   "id": "ab18064c-ed63-491b-a4ba-1de2d47659cb",
   "metadata": {},
   "outputs": [],
   "source": [
    "#!/usr/bin/env pytho\n",
    "import time\n",
    "import numpy as np\n",
    "from ibllib.atlas.regions import BrainRegions\n",
    "from one.api import ONE\n",
    "import ibllib.atlas as atlas\n",
    "import pickle\n",
    "\n",
    "# have to do this because the Examples folder is below the unitymouse folder\n",
    "import sys\n",
    "sys.path.append(\"..\") \n",
    "import unitymouse.render as umr\n",
    "\n",
    "\"\"\"\n",
    "Display all trajectories in one single brain volume\n",
    "Author: Mayo, Gaelle, Dan\n",
    "\"\"\"\n",
    "\n",
    "import numpy as np\n",
    "\n",
    "one = ONE()\n",
    "ba = atlas.AllenAtlas(25)\n",
    "traj_rep = one.alyx.rest('trajectories', 'list', provenance='Planned',\n",
    "    x=-2243, y=-2000,  project='ibl_neuropixel_brainwide_01', use_cache=False)\n"
   ]
  },
  {
   "cell_type": "code",
   "execution_count": 6,
   "id": "f5fdf2b2-da13-44c6-aa2f-e0bc6ff34354",
   "metadata": {},
   "outputs": [],
   "source": [
    "data = {}\n",
    "\n",
    "for traj in traj_rep:\n",
    "\n",
    "    if traj['probe_insertion'] not in except_pid:\n",
    "        temp_traj = one.alyx.rest('trajectories', 'list',\n",
    "            provenance='Ephys aligned histology track',\n",
    "            probe_insertion=traj['probe_insertion'], use_cache=False)\n",
    "        if len(temp_traj) == 0:\n",
    "            temp_traj = one.alyx.rest('trajectories', 'list', provenance='Histology track',\n",
    "                probe_insertion=traj['probe_insertion'], use_cache=False)\n",
    "\n",
    "            if len(temp_traj) == 0:\n",
    "                continue\n",
    "\n",
    "        if not temp_traj[0]['x']:\n",
    "            continue\n",
    "\n",
    "        ins = atlas.Insertion.from_dict(temp_traj[0])\n",
    "\n",
    "        entry_coords = ba.xyz2ccf(ins.entry)\n",
    "        tip_coords = ba.xyz2ccf(ins.tip)\n",
    "        recording_size = np.sqrt(np.sum(np.power(entry_coords-tip_coords,2)))\n",
    "        tip_angles = [ins.phi, ins.theta, ins.beta]\n",
    "        data[traj['probe_insertion']] = (tip_coords, tip_angles, recording_size)\n",
    "    \n",
    "pickle.dump(data,open( './ibl_repro_ephys_traj.pkl', \"wb\" ))"
   ]
  },
  {
   "cell_type": "code",
   "execution_count": 2,
   "id": "d67abece-1fbf-46cc-b333-af48aba23612",
   "metadata": {},
   "outputs": [
    {
     "name": "stdout",
     "output_type": "stream",
     "text": [
      "UnityMouse Renderer connected to server\n",
      "Login sent with ID: Dan\n"
     ]
    }
   ],
   "source": [
    "umr.setup()"
   ]
  },
  {
   "cell_type": "code",
   "execution_count": 3,
   "id": "40e9eddd-2087-4501-a3e4-8f7f40ca5066",
   "metadata": {},
   "outputs": [],
   "source": [
    "data = pickle.load( open( \"./data/gaelle/ibl_repro_ephys_traj.pkl\", \"rb\" ) )\n"
   ]
  },
  {
   "cell_type": "code",
   "execution_count": 11,
   "id": "c9093d5c-26f1-40de-99a8-5ed2f4178758",
   "metadata": {},
   "outputs": [],
   "source": [
    "umr.clear()"
   ]
  },
  {
   "cell_type": "code",
   "execution_count": 14,
   "id": "4da99a77-a002-485d-af6c-f00d174b0034",
   "metadata": {},
   "outputs": [],
   "source": [
    "# TODO removing PID manually for sake of figure, but need to iron this out in Alyx\n",
    "except_pid = ['8b735d77-b77b-4243-8821-37802bf402fe',\n",
    "'94af9073-0914-4323-a90a-5eea1ef5f92c']\n",
    "\n",
    "# temp_traj_rep = [traj_rep[0]]\n",
    "count = 0\n",
    "\n",
    "for i, (pid, traj) in enumerate(data.items()):\n",
    "    tip_coords = traj[0]\n",
    "    tip_angles = traj[1]\n",
    "    recording_size = traj[2]\n",
    "    \n",
    "    probename = 'p'+str(count)\n",
    "    count+=1\n",
    "    umr.create_probes([probename])\n",
    "    umr.set_probe_positions({probename:tip_coords.tolist()})\n",
    "    umr.set_probe_colors({probename:'#F28C28'})\n",
    "    umr.set_probe_angles({probename:tip_angles})\n",
    "    umr.set_probe_size({probename:[0.07,recording_size/1000,0.02]})\n",
    "\n",
    "vdata = {'VISa': True, 'CA1': True, 'DG': True, 'LP': True, 'PO': True}\n",
    "umr.set_volume_visibility(vdata)\n",
    "vdata = {'VISa': 'left', 'CA1': 'left', 'DG': 'left', 'LP': 'left', 'PO': 'left'}\n",
    "umr.set_volume_style(vdata)\n",
    "vdata = {'VISa': 'transparent-lit', 'CA1': 'transparent-lit', 'DG': 'transparent-lit', 'LP': 'transparent-lit', 'PO': 'transparent-lit'}\n",
    "umr.set_volume_shader(vdata)\n",
    "vdata = {'VISa': 0.4, 'CA1': 0.4, 'DG': 0.4, 'LP': 0.4, 'PO': 0.4}\n",
    "umr.set_volume_alpha(vdata)\n",
    "\n",
    "# for some reason 'root' doesn't work?\n",
    "umr.set_volume_visibility({8:True})\n",
    "umr.set_volume_shader({8:'transparent-unlit'})\n",
    "umr.set_volume_color({8:'#000000'})\n",
    "umr.set_volume_alpha({8:0.025})"
   ]
  },
  {
   "cell_type": "code",
   "execution_count": 15,
   "id": "0f1406e5-fe12-4198-843a-63614512a96f",
   "metadata": {},
   "outputs": [
    {
     "name": "stdout",
     "output_type": "stream",
     "text": [
      "UnityMouse Renderer connected to server\n",
      "Login sent with ID: Dan\n"
     ]
    }
   ],
   "source": [
    "umr.close()"
   ]
  },
  {
   "cell_type": "code",
   "execution_count": null,
   "id": "06e2d89f-6838-4b26-acc4-0406adcf3962",
   "metadata": {},
   "outputs": [],
   "source": []
  }
 ],
 "metadata": {
  "kernelspec": {
   "display_name": "Python 3 (ipykernel)",
   "language": "python",
   "name": "python3"
  },
  "language_info": {
   "codemirror_mode": {
    "name": "ipython",
    "version": 3
   },
   "file_extension": ".py",
   "mimetype": "text/x-python",
   "name": "python",
   "nbconvert_exporter": "python",
   "pygments_lexer": "ipython3",
   "version": "3.9.9"
  }
 },
 "nbformat": 4,
 "nbformat_minor": 5
}
