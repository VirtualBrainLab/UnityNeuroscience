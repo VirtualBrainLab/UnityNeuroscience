{
 "cells": [
  {
   "cell_type": "code",
   "execution_count": 33,
   "id": "b7ff1ce8-6642-4eb0-a829-92fbc2a83c6c",
   "metadata": {},
   "outputs": [],
   "source": [
    "import json\n",
    "import sys\n",
    "import os\n",
    "sys.path.append(\"..\") \n",
    "import unitymouse.render as umr\n",
    "\n",
    "CHANNEL_COVERAGE_SCALE = 0.100 # in um"
   ]
  },
  {
   "cell_type": "code",
   "execution_count": 43,
   "id": "674bcd8e-90ae-47ea-9e86-1dfdca428563",
   "metadata": {},
   "outputs": [
    {
     "ename": "ConnectionError",
     "evalue": "Already connected",
     "output_type": "error",
     "traceback": [
      "\u001b[1;31m---------------------------------------------------------------------------\u001b[0m",
      "\u001b[1;31mConnectionError\u001b[0m                           Traceback (most recent call last)",
      "Input \u001b[1;32mIn [43]\u001b[0m, in \u001b[0;36m<module>\u001b[1;34m\u001b[0m\n\u001b[1;32m----> 1\u001b[0m \u001b[43mumr\u001b[49m\u001b[38;5;241;43m.\u001b[39;49m\u001b[43msetup\u001b[49m\u001b[43m(\u001b[49m\u001b[43m)\u001b[49m\n",
      "File \u001b[1;32mC:\\proj\\VBL\\UMRenderer\\Examples\\..\\unitymouse\\render.py:21\u001b[0m, in \u001b[0;36msetup\u001b[1;34m(localhost)\u001b[0m\n\u001b[0;32m     19\u001b[0m \tsio\u001b[38;5;241m.\u001b[39mconnect(\u001b[38;5;124m'\u001b[39m\u001b[38;5;124mhttp://localhost:5000\u001b[39m\u001b[38;5;124m'\u001b[39m)\n\u001b[0;32m     20\u001b[0m \u001b[38;5;28;01melse\u001b[39;00m:\n\u001b[1;32m---> 21\u001b[0m \t\u001b[43msio\u001b[49m\u001b[38;5;241;43m.\u001b[39;49m\u001b[43mconnect\u001b[49m\u001b[43m(\u001b[49m\u001b[38;5;124;43m'\u001b[39;49m\u001b[38;5;124;43mhttps://um-commserver.herokuapp.com/\u001b[39;49m\u001b[38;5;124;43m'\u001b[39;49m\u001b[43m)\u001b[49m\n",
      "File \u001b[1;32m~\\anaconda3\\envs\\iblenv\\lib\\site-packages\\socketio\\client.py:306\u001b[0m, in \u001b[0;36mClient.connect\u001b[1;34m(self, url, headers, auth, transports, namespaces, socketio_path, wait, wait_timeout)\u001b[0m\n\u001b[0;32m    264\u001b[0m \u001b[38;5;124;03m\"\"\"Connect to a Socket.IO server.\u001b[39;00m\n\u001b[0;32m    265\u001b[0m \n\u001b[0;32m    266\u001b[0m \u001b[38;5;124;03m:param url: The URL of the Socket.IO server. It can include custom\u001b[39;00m\n\u001b[1;32m   (...)\u001b[0m\n\u001b[0;32m    303\u001b[0m \u001b[38;5;124;03m    sio.connect('http://localhost:5000')\u001b[39;00m\n\u001b[0;32m    304\u001b[0m \u001b[38;5;124;03m\"\"\"\u001b[39;00m\n\u001b[0;32m    305\u001b[0m \u001b[38;5;28;01mif\u001b[39;00m \u001b[38;5;28mself\u001b[39m\u001b[38;5;241m.\u001b[39mconnected:\n\u001b[1;32m--> 306\u001b[0m     \u001b[38;5;28;01mraise\u001b[39;00m exceptions\u001b[38;5;241m.\u001b[39mConnectionError(\u001b[38;5;124m'\u001b[39m\u001b[38;5;124mAlready connected\u001b[39m\u001b[38;5;124m'\u001b[39m)\n\u001b[0;32m    308\u001b[0m \u001b[38;5;28mself\u001b[39m\u001b[38;5;241m.\u001b[39mconnection_url \u001b[38;5;241m=\u001b[39m url\n\u001b[0;32m    309\u001b[0m \u001b[38;5;28mself\u001b[39m\u001b[38;5;241m.\u001b[39mconnection_headers \u001b[38;5;241m=\u001b[39m headers\n",
      "\u001b[1;31mConnectionError\u001b[0m: Already connected"
     ]
    }
   ],
   "source": [
    "umr.setup()"
   ]
  },
  {
   "cell_type": "code",
   "execution_count": 5,
   "id": "94f6a8e8-372a-4399-bd39-1bf78e09eb4a",
   "metadata": {},
   "outputs": [],
   "source": [
    "files = os.listdir('./data/jordan/')"
   ]
  },
  {
   "cell_type": "code",
   "execution_count": 9,
   "id": "62c9402f-cf35-48f0-865c-9f9841c41f46",
   "metadata": {},
   "outputs": [],
   "source": [
    "def convertAPML2CCF(ml,ap,dv,iblBregma):\n",
    "    ml = iblBregma[0] + ml\n",
    "    ap = iblBregma[1] - ap \n",
    "    dv = iblBregma[2] - dv\n",
    "    return (ml,ap,dv)"
   ]
  },
  {
   "cell_type": "code",
   "execution_count": 35,
   "id": "b4cdf190-2dad-4e38-84d9-44d2195fd341",
   "metadata": {},
   "outputs": [],
   "source": [
    "def constructChannelDict(chanLocs,iblBregma,filePrefix):\n",
    "    outName = []\n",
    "    outPos = {}\n",
    "    outSize = {}\n",
    "    outShape = {}\n",
    "    for i, (k,v) in enumerate(chanLocs.items()):\n",
    "        if \"channel\" in k:\n",
    "            name = filePrefix + '_chan' + str(i)\n",
    "            outName.append(name)\n",
    "            (ml,ap,dv) = convertAPML2CCF(v['x'],v['y'],v['z'],iblBregma)\n",
    "            outPos[name] = [ml,ap,dv]\n",
    "            outShape[name] = 'sphere'\n",
    "            outSize[name] = CHANNEL_COVERAGE_SCALE\n",
    "    return (outName, outPos, outShape, outSize)"
   ]
  },
  {
   "cell_type": "code",
   "execution_count": 49,
   "id": "93bb8b0f-1e88-4016-b4dd-4174cd79c779",
   "metadata": {},
   "outputs": [],
   "source": [
    "umr.clear()\n",
    "mrn_areas = ['MRN','SCm', 'SCs', 'APN']\n",
    "for area in mrn_areas:\n",
    "    umr.set_volume_visibility({area:True})\n",
    "    umr.set_volume_shader({area:'transparent-unlit'})\n",
    "    umr.set_volume_alpha({area:0.5})\n",
    "    \n",
    "\n",
    "umr.set_volume_visibility({8:True})\n",
    "umr.set_volume_shader({8:'transparent-unlit'})\n",
    "umr.set_volume_alpha({8:0.15})"
   ]
  },
  {
   "cell_type": "code",
   "execution_count": 50,
   "id": "cfb1e3a2-b933-47a2-97fe-e3745641b8cd",
   "metadata": {},
   "outputs": [
    {
     "name": "stdout",
     "output_type": "stream",
     "text": [
      "JRS_00042021-06-16oldp1_shank0.json\n",
      "JRS_00042021-06-16oldp1_shank3.json\n",
      "JRS_00052021-07-21p0_g0_imec0_shank0.json\n",
      "JRS_00052021-07-21p0_g0_imec0_shank1.json\n",
      "JRS_00052021-07-21p0_g0_imec0_shank2.json\n",
      "JRS_00052021-07-21p0_g0_imec0_shank3.json\n",
      "JRS_00052021-07-21p0_g0_imec1_shank0.json\n",
      "JRS_00052021-07-21p0_g0_imec1_shank1.json\n",
      "JRS_00052021-07-21p0_g0_imec1_shank2.json\n",
      "JRS_00052021-07-21p0_g0_imec1_shank3.json\n",
      "JRS_00052021-08-16p0_g0_imec0_shank0.json\n",
      "JRS_00052021-08-16p0_g0_imec0_shank1.json\n",
      "JRS_00052021-08-16p0_g0_imec0_shank2.json\n",
      "JRS_00052021-08-16p0_g0_imec0_shank3.json\n",
      "JRS_00052021-08-16p0_g0_imec1_shank0.json\n",
      "JRS_00052021-08-16p0_g0_imec1_shank1.json\n",
      "JRS_00052021-08-16p0_g0_imec1_shank2.json\n",
      "JRS_00052021-08-16p0_g0_imec1_shank3.json\n",
      "JRS_00062022-01-13p0_g0_imec0_shank0.json\n",
      "JRS_00062022-01-13p0_g0_imec0_shank1.json\n",
      "JRS_00092021-11-08p0_g0_imec0_shank0.json\n",
      "JRS_00092021-11-08p0_g0_imec0_shank1.json\n",
      "JRS_00092021-11-08p0_g0_imec0_shank2.json\n",
      "JRS_00092021-11-08p0_g0_imec0_shank3.json\n",
      "JRS_00092021-11-08p0_g0_imec1_shank0.json\n",
      "JRS_00092021-11-08p0_g0_imec1_shank1.json\n",
      "JRS_00092021-11-08p0_g0_imec1_shank2.json\n",
      "JRS_00092021-11-08p0_g0_imec1_shank3.json\n",
      "JRS_00092021-11-17p0_g0_imec0_shank0.json\n",
      "JRS_00092021-11-17p0_g0_imec0_shank1.json\n",
      "JRS_00092021-11-17p0_g0_imec0_shank2.json\n",
      "JRS_00092021-11-17p0_g0_imec0_shank3.json\n"
     ]
    }
   ],
   "source": [
    "file_count = 0\n",
    "for file in files:\n",
    "    print(file)\n",
    "    with open('./data/jordan/'+file) as f:\n",
    "        data = json.load(f)\n",
    "        bregma = data['origin']['bregma']\n",
    "        (outName, outPos, outShape, outSize) = constructChannelDict(data,bregma,'f'+str(file_count))\n",
    "        file_count+=1\n",
    "        umr.create_neurons(outName)\n",
    "        umr.set_neuron_positions(outPos)\n",
    "        umr.set_neuron_shape(outShape)\n",
    "        umr.set_neuron_size(outSize)"
   ]
  },
  {
   "cell_type": "code",
   "execution_count": null,
   "id": "8cd2cf22-420b-4f31-ba8e-87d1326106a9",
   "metadata": {},
   "outputs": [],
   "source": []
  }
 ],
 "metadata": {
  "kernelspec": {
   "display_name": "Python 3 (ipykernel)",
   "language": "python",
   "name": "python3"
  },
  "language_info": {
   "codemirror_mode": {
    "name": "ipython",
    "version": 3
   },
   "file_extension": ".py",
   "mimetype": "text/x-python",
   "name": "python",
   "nbconvert_exporter": "python",
   "pygments_lexer": "ipython3",
   "version": "3.9.9"
  }
 },
 "nbformat": 4,
 "nbformat_minor": 5
}
