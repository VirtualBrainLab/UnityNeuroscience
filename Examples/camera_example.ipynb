{
 "cells": [
  {
   "cell_type": "code",
   "execution_count": 10,
   "id": "32c8d5ba-0dc6-4e23-a076-a512bdb83dee",
   "metadata": {},
   "outputs": [],
   "source": [
    "import json\n",
    "import sys\n",
    "import os\n",
    "sys.path.append(\"..\") \n",
    "import unitymouse.render as umr\n",
    "import time\n"
   ]
  },
  {
   "cell_type": "code",
   "execution_count": 2,
   "id": "a956711a-aa6e-46da-accd-1d1e412e57b6",
   "metadata": {},
   "outputs": [
    {
     "name": "stdout",
     "output_type": "stream",
     "text": [
      "UnityMouse Renderer connected to server\n",
      "Login sent with ID: Dan\n"
     ]
    }
   ],
   "source": [
    "umr.setup()"
   ]
  },
  {
   "cell_type": "code",
   "execution_count": 66,
   "id": "ea54578f-7860-4886-9809-b1b2b49914eb",
   "metadata": {},
   "outputs": [],
   "source": [
    "umr.clear()\n",
    "mrn_areas = ['MRN','SCm', 'SCs', 'APN']\n",
    "for area in mrn_areas:\n",
    "    umr.set_volume_visibility({area:True})\n",
    "    umr.set_volume_shader({area:'transparent-unlit'})\n",
    "    umr.set_volume_alpha({area:0.5})\n"
   ]
  },
  {
   "cell_type": "code",
   "execution_count": 69,
   "id": "3119235c-b8f7-4c06-86a7-f7144fa6f5e6",
   "metadata": {},
   "outputs": [],
   "source": [
    "# set the camera to be roughly centered on MRN\n",
    "umr.set_camera_target([10,4,5.7])\n"
   ]
  },
  {
   "cell_type": "code",
   "execution_count": 17,
   "id": "c60bcc93-a5d6-4383-9a4e-699b7740bd2c",
   "metadata": {},
   "outputs": [],
   "source": [
    "# move the y axis around (also try the button in the renderer)\n",
    "umr.set_camera_y_angle(45)\n",
    "time.sleep(1)\n",
    "umr.set_camera_y_angle(90)\n",
    "time.sleep(1)\n",
    "umr.set_camera_y_angle(180)\n"
   ]
  }
 ],
 "metadata": {
  "kernelspec": {
   "display_name": "Python 3 (ipykernel)",
   "language": "python",
   "name": "python3"
  },
  "language_info": {
   "codemirror_mode": {
    "name": "ipython",
    "version": 3
   },
   "file_extension": ".py",
   "mimetype": "text/x-python",
   "name": "python",
   "nbconvert_exporter": "python",
   "pygments_lexer": "ipython3",
   "version": "3.9.9"
  }
 },
 "nbformat": 4,
 "nbformat_minor": 5
}
