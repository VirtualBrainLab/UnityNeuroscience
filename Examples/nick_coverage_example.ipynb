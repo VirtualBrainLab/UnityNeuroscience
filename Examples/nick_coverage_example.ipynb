{
 "cells": [
  {
   "cell_type": "code",
   "execution_count": 10,
   "id": "b7ff1ce8-6642-4eb0-a829-92fbc2a83c6c",
   "metadata": {},
   "outputs": [],
   "source": [
    "import json\n",
    "import sys\n",
    "import os\n",
    "import numpy as np\n",
    "sys.path.append(\"..\") \n",
    "import unitymouse.render as umr\n",
    "\n",
    "SCALE = 0.100 # in um"
   ]
  },
  {
   "cell_type": "code",
   "execution_count": 2,
   "id": "674bcd8e-90ae-47ea-9e86-1dfdca428563",
   "metadata": {},
   "outputs": [
    {
     "name": "stdout",
     "output_type": "stream",
     "text": [
      "UnityMouse Renderer connected to server\n",
      "Login sent with ID: Dan\n"
     ]
    }
   ],
   "source": [
    "umr.setup()"
   ]
  },
  {
   "cell_type": "code",
   "execution_count": 3,
   "id": "94f6a8e8-372a-4399-bd39-1bf78e09eb4a",
   "metadata": {},
   "outputs": [],
   "source": [
    "files = os.listdir('./data/nick/')"
   ]
  },
  {
   "cell_type": "code",
   "execution_count": 4,
   "id": "a075ab32-3dc2-4fca-bf73-99b7349b19bf",
   "metadata": {},
   "outputs": [
    {
     "name": "stdout",
     "output_type": "stream",
     "text": [
      "['clusters.CCF_APDVLR.npy', 'clusters.isSmall.npy']\n"
     ]
    }
   ],
   "source": [
    "print(files)"
   ]
  },
  {
   "cell_type": "code",
   "execution_count": 7,
   "id": "0c54eaba-f506-454e-aded-2bc1dcc17af8",
   "metadata": {},
   "outputs": [],
   "source": [
    "# Load the data files\n",
    "ccf_apdvlr = np.load('./data/nick/clusters.CCF_APDVLR.npy')\n",
    "cluster_color = np.load('./data/nick/clusters.isSmall.npy')"
   ]
  },
  {
   "cell_type": "code",
   "execution_count": 12,
   "id": "4ee34f1c-f499-40df-8cb3-6a3c049dcf75",
   "metadata": {},
   "outputs": [],
   "source": [
    "# Create dictionaries for cluster pos/scale\n",
    "neuronName = []\n",
    "neuronPos = {}\n",
    "neuronShape = {}\n",
    "neuronSize = {}\n",
    "neuronColor = {}\n",
    "for i,apdvlr in enumerate(ccf_apdvlr):\n",
    "    name = 'n'+str(i)\n",
    "    neuronName.append(name)\n",
    "    # now build the info\n",
    "    neuronPos[name] = [apdvlr[2],apdvlr[0],apdvlr[1]]\n",
    "    neuronShape[name] = 'sphere'\n",
    "    if cluster_color[i]:\n",
    "        neuronSize[name] = SCALE*2\n",
    "        neuronColor[name] = \"#FF0000\"\n",
    "    else:\n",
    "        neuronSize[name] = SCALE\n",
    "        neuronColor[name] = \"#808080\""
   ]
  },
  {
   "cell_type": "code",
   "execution_count": 13,
   "id": "93bb8b0f-1e88-4016-b4dd-4174cd79c779",
   "metadata": {},
   "outputs": [],
   "source": [
    "umr.clear()\n",
    "\n",
    "# show the full brain as a transparent view\n",
    "umr.set_volume_visibility({8:True})\n",
    "umr.set_volume_shader({8:'transparent-unlit'})\n",
    "umr.set_volume_alpha({8:0.15})\n",
    "\n",
    "# create neurons \n",
    "umr.create_neurons(neuronName)\n",
    "umr.set_neuron_positions(neuronPos)\n",
    "umr.set_neuron_shape(neuronShape)\n",
    "umr.set_neuron_size(neuronSize)\n",
    "umr.set_neuron_color(neuronColor)\n",
    "    \n",
    "\n"
   ]
  },
  {
   "cell_type": "code",
   "execution_count": null,
   "id": "8cd2cf22-420b-4f31-ba8e-87d1326106a9",
   "metadata": {},
   "outputs": [],
   "source": []
  }
 ],
 "metadata": {
  "kernelspec": {
   "display_name": "Python 3 (ipykernel)",
   "language": "python",
   "name": "python3"
  },
  "language_info": {
   "codemirror_mode": {
    "name": "ipython",
    "version": 3
   },
   "file_extension": ".py",
   "mimetype": "text/x-python",
   "name": "python",
   "nbconvert_exporter": "python",
   "pygments_lexer": "ipython3",
   "version": "3.9.10"
  }
 },
 "nbformat": 4,
 "nbformat_minor": 5
}
