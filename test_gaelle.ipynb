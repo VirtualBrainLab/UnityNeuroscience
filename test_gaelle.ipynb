{
 "cells": [
  {
   "cell_type": "code",
   "execution_count": 2,
   "id": "ab18064c-ed63-491b-a4ba-1de2d47659cb",
   "metadata": {},
   "outputs": [],
   "source": [
    "#!/usr/bin/env python\n",
    "import unitymouse.render as umr\n",
    "import time\n",
    "import numpy as np\n",
    "from ibllib.atlas.regions import BrainRegions\n",
    "from one.api import ONE\n",
    "import ibllib.atlas as atlas\n",
    "\n",
    "\"\"\"\n",
    "Display all trajectories in one single brain volume\n",
    "Author: Mayo, Gaelle, Dan\n",
    "\"\"\"\n",
    "\n",
    "import numpy as np\n",
    "\n",
    "one = ONE()\n",
    "ba = atlas.AllenAtlas(25)\n",
    "traj_rep = one.alyx.rest('trajectories', 'list', provenance='Planned',\n",
    "\tx=-2243, y=-2000,  project='ibl_neuropixel_brainwide_01', use_cache=False)\n"
   ]
  },
  {
   "cell_type": "code",
   "execution_count": 3,
   "id": "d67abece-1fbf-46cc-b333-af48aba23612",
   "metadata": {},
   "outputs": [
    {
     "name": "stdout",
     "output_type": "stream",
     "text": [
      "UnityMouse Renderer connected to server\n"
     ]
    }
   ],
   "source": [
    "\n",
    "umr.setup()"
   ]
  },
  {
   "cell_type": "code",
   "execution_count": 24,
   "id": "15987e23-fb57-4986-b9b8-65ee7699e98a",
   "metadata": {},
   "outputs": [
    {
     "name": "stdout",
     "output_type": "stream",
     "text": [
      "[3150. 7200.  575.]\n",
      "[4100.79763398 8072.11220698 4256.36698171]\n"
     ]
    }
   ],
   "source": [
    "\n",
    "entry_coords = ba.xyz2ccf(ins.entry)\n",
    "tip_coords = ba.xyz2ccf(ins.tip)\n",
    "print(entry_coords)\n",
    "print(tip_coords)"
   ]
  },
  {
   "cell_type": "code",
   "execution_count": 25,
   "id": "f07da59a-430f-450b-ab0e-24374c9bc3f8",
   "metadata": {},
   "outputs": [],
   "source": [
    "dcoords = entry_coords-tip_coords"
   ]
  },
  {
   "cell_type": "code",
   "execution_count": 27,
   "id": "623c4770-f3d5-48b0-8912-3ceb5d4ba49f",
   "metadata": {},
   "outputs": [
    {
     "name": "stdout",
     "output_type": "stream",
     "text": [
      "[  904016.14077578   760579.70156481 13552462.85403095]\n"
     ]
    }
   ],
   "source": [
    "print(np.power(dcoords,2))"
   ]
  },
  {
   "cell_type": "code",
   "execution_count": 28,
   "id": "6cbf6ac0-5a0c-4704-88b4-a42a72144193",
   "metadata": {},
   "outputs": [
    {
     "data": {
      "text/plain": [
       "3900.9048561034583"
      ]
     },
     "execution_count": 28,
     "metadata": {},
     "output_type": "execute_result"
    }
   ],
   "source": [
    "np.sqrt(np.sum(np.power(entry_coords-tip_coords,2)))"
   ]
  },
  {
   "cell_type": "code",
   "execution_count": 11,
   "id": "4da99a77-a002-485d-af6c-f00d174b0034",
   "metadata": {},
   "outputs": [
    {
     "name": "stdout",
     "output_type": "stream",
     "text": [
      "Trajectory: 1e176f17-d00f-49bb-87ff-26d237b525f1\n",
      "Trajectory: f936a701-5f8a-4aa1-b7a9-9f8b5b69bc7c\n",
      "Trajectory: f86e9571-63ff-4116-9c40-aa44d57d2da9\n",
      "Trajectory: 341ef9bb-25f9-4eeb-8f1d-bdd054b22ba8\n",
      "Trajectory: 8d59da25-3a9c-44be-8b1a-e27cdd39ca34\n",
      "Trajectory: 69f42a9c-095d-4a25-bca8-61a9869871d3\n",
      "Trajectory: f2ee886d-5b9c-4d06-a9be-ee7ae8381114\n",
      "Trajectory: 7f3dddf8-637f-47bb-a7b7-e303277b2107\n",
      "Trajectory: b2746c16-7152-45a3-a7f0-477985638638\n",
      "Trajectory: dc50c3de-5d84-4408-9725-22ae55b93522\n",
      "Trajectory: b749446c-18e3-4987-820a-50649ab0f826\n",
      "Trajectory: a3d13b05-bf4d-427a-a2d5-2fe050d603ec\n",
      "Trajectory: 583ffb83-85df-4ac7-ae79-ddb7f751fb45\n",
      "Trajectory: ca5764ea-a57e-49de-8156-84da18ad439f\n",
      "Trajectory: febb430e-2d50-4f83-87a0-b5ffbb9a4943\n",
      "Trajectory: c4f6665f-8be5-476b-a6e8-d81eeae9279d\n",
      "Trajectory: 57656bee-e32e-4848-b924-0f6f18cfdfb1\n",
      "Trajectory: dab512bd-a02d-4c1f-8dbc-9155a163efc0\n",
      "Trajectory: eeb27b45-5b85-4e5c-b6ff-f639ca5687de\n",
      "Trajectory: c17772a9-21b5-49df-ab31-3017addea12e\n",
      "Trajectory: 7cbecb3f-6a8a-48e5-a3be-8f7a762b5a04\n",
      "Trajectory: 6e1379e8-3af0-4fc5-8ba8-37d3bb02226b\n",
      "Trajectory: f8d0ecdc-b7bd-44cc-b887-3d544e24e561\n",
      "Trajectory: 6bfa4a99-bdfa-4e44-aa01-9c7eac7e253d\n",
      "Trajectory: ce397420-3cd2-4a55-8fd1-5e28321981f4\n",
      "Trajectory: 3443eceb-50b3-450e-b7c1-fc465a3bc84f\n",
      "Trajectory: 8185f1e9-cfe0-4fd6-8d7e-446a8051c588\n",
      "Trajectory: 41a3b948-13f4-4be7-90b9-150705d39005\n",
      "Trajectory: 9117969a-3f0d-478b-ad75-98263e3bfacf\n",
      "Trajectory: 9657af01-50bd-4120-8303-416ad9e24a51\n",
      "Trajectory: 19baa84c-22a5-4589-9cbd-c23f111c054c\n",
      "Trajectory: 8b7c808f-763b-44c8-b273-63c6afbc6aae\n",
      "Trajectory: 31f3e083-a324-4b88-b0a4-7788ec37b191\n",
      "Trajectory: 8413c5c6-b42b-4ec6-b751-881a54413628\n",
      "Trajectory: 72f89097-4836-4b67-a47a-edb3285a6e83\n",
      "Trajectory: 84bb830f-b9ff-4e6b-9296-f458fb41d160\n",
      "Trajectory: f03b61b4-6b13-479d-940f-d1608eb275cc\n",
      "Trajectory: 8ca1a850-26ef-42be-8b28-c2e2d12f06d6\n",
      "Trajectory: fc626c12-bd1e-45c3-9434-4a7a8c81d7c0\n",
      "Trajectory: 143cff36-30b4-4b25-9d26-5a2dbe6f6fc2\n",
      "Trajectory: e7abb87f-4324-4c89-8a46-97ed4b40577e\n",
      "Trajectory: 36362f75-96d8-4ed4-a728-5e72284d0995\n",
      "Trajectory: e31b4e39-e350-47a9-aca4-72496d99ff2a\n",
      "Trajectory: f06d6cd9-a6b8-49a4-90d1-7905d04c2f8b\n",
      "Trajectory: 63517fd4-ece1-49eb-9259-371dc30b1dd6\n",
      "Trajectory: f26a6ab1-7e37-4f8d-bb50-295c056e1062\n",
      "Trajectory: 4b93a168-0f3b-4124-88fa-a57046ca70e1\n",
      "Trajectory: ae252f7b-0224-4925-8174-7b25c2385bb7\n",
      "Trajectory: 11a5a93e-58a9-4ed0-995e-52279ec16b98\n",
      "Trajectory: 2ff92e61-c2af-4dbf-8862-bd50b344762b\n",
      "Trajectory: 82a42cdf-3140-427b-8ad0-0d504716c871\n",
      "Trajectory: 0851db85-2889-4070-ac18-a40e8ebd96ba\n",
      "Trajectory: 63a32e5c-f63a-450d-85cb-140947b67eaf\n",
      "Trajectory: 553f8d56-b6e7-46bd-a146-ac43b8ec6de7\n",
      "Trajectory: dc6eea9b-a8fb-4151-b298-718f321e6968\n",
      "Trajectory: f93bfce4-e814-4ae3-9cdf-59f4dcdedf51\n",
      "Trajectory: 84fd7fa3-6c2d-4233-b265-46a427d3d68d\n",
      "Trajectory: a12c8ae8-d5ad-4d15-b805-436ad23e5ad1\n",
      "Trajectory: 6fc4d73c-2071-43ec-a756-c6c6d8322c8b\n",
      "Trajectory: 143dd7cf-6a47-47a1-906d-927ad7fe9117\n",
      "Trajectory: b53cc868-008a-4d20-a33a-ea3101be2d34\n",
      "Trajectory: 44fc10b1-ec82-4f88-afbf-10a6f8a1b5d8\n",
      "Trajectory: 70da415f-444d-4148-ade7-a1f58a16fcf8\n",
      "Trajectory: 1f3d3fcb-f188-47a2-87e5-ac1db6cf393a\n",
      "Trajectory: bc1602ba-dd6c-4ae4-bcb2-4925e7c8632a\n",
      "Trajectory: ef03e569-2b50-4534-89f4-fb1e56e81461\n",
      "Trajectory: 50cdbc2b-4ecd-4044-955d-9654505f7f98\n",
      "Trajectory: 80624507-4be6-4689-92df-0e2c26c3faf3\n",
      "Trajectory: 8b1b285d-c176-421b-b564-3b2c6404fb1e\n",
      "Trajectory: bf96f6d6-4726-4cfa-804a-bca8f9262721\n",
      "Trajectory: 7d999a68-0215-4e45-8e6c-879c6ca2b771\n",
      "Trajectory: 5246af08-0730-40f7-83de-29b5d62b9b6d\n",
      "Trajectory: f4bd76a6-66c9-41f3-9311-6962315f8fc8\n",
      "Trajectory: 523f8301-4f56-4faf-ab33-a9ff11331118\n",
      "Trajectory: 0b8ea3ec-e75b-41a1-9442-64f5fbc11a5a\n",
      "Trajectory: 1a60a6e1-da99-4d4e-a734-39b1d4544fad\n",
      "Trajectory: e42e948c-3154-45cb-bf52-408b7cda0f2f\n",
      "Trajectory: d7361c6f-6751-4b5f-91c2-fdd61f988aa4\n",
      "Trajectory: 94af9073-0914-4323-a90a-5eea1ef5f92c\n",
      "Trajectory: c07d13ed-e387-4457-8e33-1d16aed3fd92\n",
      "Trajectory: 94e948c1-f7be-4868-893a-f7cd2df3313e\n",
      "Trajectory: ef3d059a-59d5-4870-b355-563a8d7cfd2d\n",
      "Trajectory: b25799a5-09e8-4656-9c1b-44bc9cbb5279\n",
      "Trajectory: d237c5ea-677f-4535-b101-02065b860e09\n",
      "Trajectory: 8abf098f-d4f6-4957-9c0a-f53685db74cc\n",
      "Trajectory: 8f1d5aad-8c1f-4e81-869a-5a1ab1bf53b2\n"
     ]
    }
   ],
   "source": [
    "# TODO removing PID manually for sake of figure, but need to iron this out in Alyx\n",
    "except_pid = ['8b735d77-b77b-4243-8821-37802bf402fe',\n",
    "'94af9073-0914-4323-a90a-5eea1ef5f92c']\n",
    "\n",
    "# temp_traj_rep = [traj_rep[0]]\n",
    "count = 0\n",
    "\n",
    "for traj in traj_rep:\n",
    "    print('Trajectory: ' + traj['probe_insertion'])\n",
    "\n",
    "    if traj['probe_insertion'] not in except_pid:\n",
    "        temp_traj = one.alyx.rest('trajectories', 'list',\n",
    "            provenance='Ephys aligned histology track',\n",
    "            probe_insertion=traj['probe_insertion'], use_cache=False)\n",
    "        if len(temp_traj) == 0:\n",
    "            temp_traj = one.alyx.rest('trajectories', 'list', provenance='Histology track',\n",
    "                probe_insertion=traj['probe_insertion'], use_cache=False)\n",
    "\n",
    "            if len(temp_traj) == 0:\n",
    "                continue\n",
    "\n",
    "        if not temp_traj[0]['x']:\n",
    "            continue\n",
    "\n",
    "        ins = atlas.Insertion.from_dict(temp_traj[0])\n",
    "\n",
    "        entry_coords = ba.xyz2ccf(ins.entry)\n",
    "        tip_coords = ba.xyz2ccf(ins.tip)\n",
    "        recording_size = np.sqrt(np.sum(np.power(entry_coords-tip_coords,2)))\n",
    "        tip_angles = [ins.phi, ins.theta, ins.beta]\n",
    "\n",
    "        probename = 'p'+str(count)\n",
    "        count+=1\n",
    "        umr.create_probes([probename])\n",
    "        umr.set_probe_positions({probename:tip_coords.tolist()})\n",
    "        umr.set_probe_angles({probename:tip_angles})\n",
    "        umr.set_probe_size({probename:[0.07,recording_size,0.02]})\n",
    "\n",
    "\n",
    "'''\n",
    "Display structure meshes within the brain volume\n",
    "You can download the mesh object for each brain structure here:\n",
    "http://download.alleninstitute.org/informatics-archive/current-release/mouse_ccf/annotation/ccf_2017/structure_meshes/\n",
    "'''\n",
    "br = BrainRegions()\n",
    "\n",
    "data = {'VISa': True, 'CA1': True, 'DG': True, 'LP': True, 'PO': True}\n",
    "umr.set_volume_visibility(data)\n",
    "data = {'VISa': 'left', 'CA1': 'left', 'DG': 'left', 'LP': 'left', 'PO': 'left'}\n",
    "umr.set_volume_style(data)\n",
    "\n",
    "# data = {'root':True}\n",
    "# umr.set_volume_visibility(data);\n",
    "\n",
    "\n",
    "\n",
    "# target_area = ['VISa', 'CA1', 'DG', 'LP', 'PO']\n",
    "# for target in target_area:\n",
    "#     rindx_void = np.where(br.acronym == target)\n",
    "#     idx = rindx_void[0][0]\n",
    "#     mesh_id = br.id[idx]\n",
    "#     # print(mesh_id) --> useful to download the specific mesh obj from the Allen website\n",
    "#     color = br.rgb[idx, :]/255\n",
    "#     path = f'/Users/gaelle/Desktop/Allenmesh/{mesh_id}.obj.txt'\n",
    "#     rendering.add_mesh(fig, path, color, opacity=0.6)\n",
    "\n"
   ]
  },
  {
   "cell_type": "code",
   "execution_count": 13,
   "id": "0f1406e5-fe12-4198-843a-63614512a96f",
   "metadata": {},
   "outputs": [],
   "source": [
    "umr.close()"
   ]
  },
  {
   "cell_type": "code",
   "execution_count": null,
   "id": "06e2d89f-6838-4b26-acc4-0406adcf3962",
   "metadata": {},
   "outputs": [],
   "source": []
  }
 ],
 "metadata": {
  "kernelspec": {
   "display_name": "Python 3 (ipykernel)",
   "language": "python",
   "name": "python3"
  },
  "language_info": {
   "codemirror_mode": {
    "name": "ipython",
    "version": 3
   },
   "file_extension": ".py",
   "mimetype": "text/x-python",
   "name": "python",
   "nbconvert_exporter": "python",
   "pygments_lexer": "ipython3",
   "version": "3.9.9"
  }
 },
 "nbformat": 4,
 "nbformat_minor": 5
}
