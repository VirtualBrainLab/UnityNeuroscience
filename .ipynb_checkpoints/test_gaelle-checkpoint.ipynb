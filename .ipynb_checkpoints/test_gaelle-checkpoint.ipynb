{
 "cells": [
  {
   "cell_type": "code",
   "execution_count": 2,
   "id": "ab18064c-ed63-491b-a4ba-1de2d47659cb",
   "metadata": {},
   "outputs": [],
   "source": [
    "#!/usr/bin/env python\n",
    "import unitymouse.render as umr\n",
    "import time\n",
    "import numpy as np\n",
    "from ibllib.atlas.regions import BrainRegions\n",
    "from one.api import ONE\n",
    "import ibllib.atlas as atlas\n",
    "\n",
    "\"\"\"\n",
    "Display all trajectories in one single brain volume\n",
    "Author: Mayo, Gaelle, Dan\n",
    "\"\"\"\n",
    "\n",
    "import numpy as np\n",
    "\n",
    "one = ONE()\n",
    "ba = atlas.AllenAtlas(25)\n",
    "traj_rep = one.alyx.rest('trajectories', 'list', provenance='Planned',\n",
    "\tx=-2243, y=-2000,  project='ibl_neuropixel_brainwide_01', use_cache=False)\n"
   ]
  },
  {
   "cell_type": "code",
   "execution_count": 3,
   "id": "d67abece-1fbf-46cc-b333-af48aba23612",
   "metadata": {},
   "outputs": [
    {
     "name": "stdout",
     "output_type": "stream",
     "text": [
      "UnityMouse Renderer connected to server\n"
     ]
    }
   ],
   "source": [
    "\n",
    "umr.setup()"
   ]
  },
  {
   "cell_type": "code",
   "execution_count": 10,
   "id": "4da99a77-a002-485d-af6c-f00d174b0034",
   "metadata": {},
   "outputs": [
    {
     "name": "stdout",
     "output_type": "stream",
     "text": [
      "Trajectory: 1e176f17-d00f-49bb-87ff-26d237b525f1\n"
     ]
    }
   ],
   "source": [
    "# TODO removing PID manually for sake of figure, but need to iron this out in Alyx\n",
    "except_pid = ['8b735d77-b77b-4243-8821-37802bf402fe',\n",
    "'94af9073-0914-4323-a90a-5eea1ef5f92c']\n",
    "\n",
    "# temp_traj_rep = [traj_rep[0]]\n",
    "count = 0\n",
    "\n",
    "for traj in traj_rep:\n",
    "    print('Trajectory: ' + traj['probe_insertion'])\n",
    "\n",
    "    if traj['probe_insertion'] not in except_pid:\n",
    "        temp_traj = one.alyx.rest('trajectories', 'list',\n",
    "            provenance='Ephys aligned histology track',\n",
    "            probe_insertion=traj['probe_insertion'], use_cache=False)\n",
    "        if len(temp_traj) == 0:\n",
    "            temp_traj = one.alyx.rest('trajectories', 'list', provenance='Histology track',\n",
    "                probe_insertion=traj['probe_insertion'], use_cache=False)\n",
    "\n",
    "            if len(temp_traj) == 0:\n",
    "                continue\n",
    "\n",
    "        if not temp_traj[0]['x']:\n",
    "            continue\n",
    "\n",
    "        ins = atlas.Insertion.from_dict(temp_traj[0])\n",
    "\n",
    "        tip_coords = ba.xyz2ccf(ins.tip)\n",
    "        tip_angles = [ins.phi, ins.theta, ins.beta]\n",
    "\n",
    "        probename = 'p'+str(count)\n",
    "        count+=1\n",
    "        umr.create_probes([probename])\n",
    "        umr.set_probe_positions({probename:tip_coords.tolist()})\n",
    "        umr.set_probe_angles({probename:tip_angles})\n",
    "\n",
    "\n",
    "'''\n",
    "Display structure meshes within the brain volume\n",
    "You can download the mesh object for each brain structure here:\n",
    "http://download.alleninstitute.org/informatics-archive/current-release/mouse_ccf/annotation/ccf_2017/structure_meshes/\n",
    "'''\n",
    "br = BrainRegions()\n",
    "\n",
    "data = {'VISa': True, 'CA1': True, 'DG': True, 'LP': True, 'PO': True}\n",
    "umr.set_volume_visibility(data)\n",
    "data = {'VISa': 'left', 'CA1': 'left', 'DG': 'left', 'LP': 'left', 'PO': 'left'}\n",
    "umr.set_volume_style(data)\n",
    "\n",
    "# data = {'root':True}\n",
    "# umr.set_volume_visibility(data);\n",
    "\n",
    "\n",
    "\n",
    "# target_area = ['VISa', 'CA1', 'DG', 'LP', 'PO']\n",
    "# for target in target_area:\n",
    "#     rindx_void = np.where(br.acronym == target)\n",
    "#     idx = rindx_void[0][0]\n",
    "#     mesh_id = br.id[idx]\n",
    "#     # print(mesh_id) --> useful to download the specific mesh obj from the Allen website\n",
    "#     color = br.rgb[idx, :]/255\n",
    "#     path = f'/Users/gaelle/Desktop/Allenmesh/{mesh_id}.obj.txt'\n",
    "#     rendering.add_mesh(fig, path, color, opacity=0.6)\n",
    "\n"
   ]
  },
  {
   "cell_type": "code",
   "execution_count": 29,
   "id": "0f1406e5-fe12-4198-843a-63614512a96f",
   "metadata": {},
   "outputs": [
    {
     "name": "stdout",
     "output_type": "stream",
     "text": [
      "UnityMouse Renderer disconnected from server\n"
     ]
    }
   ],
   "source": [
    "umr.close()"
   ]
  },
  {
   "cell_type": "code",
   "execution_count": null,
   "id": "06e2d89f-6838-4b26-acc4-0406adcf3962",
   "metadata": {},
   "outputs": [],
   "source": []
  }
 ],
 "metadata": {
  "kernelspec": {
   "display_name": "Python 3 (ipykernel)",
   "language": "python",
   "name": "python3"
  },
  "language_info": {
   "codemirror_mode": {
    "name": "ipython",
    "version": 3
   },
   "file_extension": ".py",
   "mimetype": "text/x-python",
   "name": "python",
   "nbconvert_exporter": "python",
   "pygments_lexer": "ipython3",
   "version": "3.9.9"
  }
 },
 "nbformat": 4,
 "nbformat_minor": 5
}
