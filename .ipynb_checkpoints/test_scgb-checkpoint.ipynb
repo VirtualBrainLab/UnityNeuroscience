{
 "cells": [
  {
   "cell_type": "code",
   "execution_count": 40,
   "id": "2d949a06-0455-4b93-81a8-66b42b9485b0",
   "metadata": {},
   "outputs": [],
   "source": [
    "import numpy as np\n",
    "import unitymouse.render as umr\n",
    "import nrrd\n",
    "import matplotlib.pyplot as plt"
   ]
  },
  {
   "cell_type": "code",
   "execution_count": 41,
   "id": "f3ca108f-f083-425e-9265-daf7cb6312b1",
   "metadata": {},
   "outputs": [
    {
     "ename": "ConnectionError",
     "evalue": "Already connected",
     "output_type": "error",
     "traceback": [
      "\u001b[1;31m---------------------------------------------------------------------------\u001b[0m",
      "\u001b[1;31mConnectionError\u001b[0m                           Traceback (most recent call last)",
      "Input \u001b[1;32mIn [41]\u001b[0m, in \u001b[0;36m<module>\u001b[1;34m\u001b[0m\n\u001b[1;32m----> 1\u001b[0m \u001b[43mumr\u001b[49m\u001b[38;5;241;43m.\u001b[39;49m\u001b[43msetup\u001b[49m\u001b[43m(\u001b[49m\u001b[43m)\u001b[49m\n",
      "File \u001b[1;32mC:\\proj\\VBL\\UMRenderer\\unitymouse\\render.py:19\u001b[0m, in \u001b[0;36msetup\u001b[1;34m()\u001b[0m\n\u001b[0;32m     17\u001b[0m \u001b[38;5;124;03m\"\"\"Connect to the heroku server and provide a login ID\"\"\"\u001b[39;00m\n\u001b[0;32m     18\u001b[0m \u001b[38;5;66;03m# sio.connect('https://um-commserver.herokuapp.com/')\u001b[39;00m\n\u001b[1;32m---> 19\u001b[0m \u001b[43msio\u001b[49m\u001b[38;5;241;43m.\u001b[39;49m\u001b[43mconnect\u001b[49m\u001b[43m(\u001b[49m\u001b[38;5;124;43m'\u001b[39;49m\u001b[38;5;124;43mhttp://localhost:5000\u001b[39;49m\u001b[38;5;124;43m'\u001b[39;49m\u001b[43m)\u001b[49m\n",
      "File \u001b[1;32m~\\anaconda3\\envs\\iblenv\\lib\\site-packages\\socketio\\client.py:306\u001b[0m, in \u001b[0;36mClient.connect\u001b[1;34m(self, url, headers, auth, transports, namespaces, socketio_path, wait, wait_timeout)\u001b[0m\n\u001b[0;32m    264\u001b[0m \u001b[38;5;124;03m\"\"\"Connect to a Socket.IO server.\u001b[39;00m\n\u001b[0;32m    265\u001b[0m \n\u001b[0;32m    266\u001b[0m \u001b[38;5;124;03m:param url: The URL of the Socket.IO server. It can include custom\u001b[39;00m\n\u001b[1;32m   (...)\u001b[0m\n\u001b[0;32m    303\u001b[0m \u001b[38;5;124;03m    sio.connect('http://localhost:5000')\u001b[39;00m\n\u001b[0;32m    304\u001b[0m \u001b[38;5;124;03m\"\"\"\u001b[39;00m\n\u001b[0;32m    305\u001b[0m \u001b[38;5;28;01mif\u001b[39;00m \u001b[38;5;28mself\u001b[39m\u001b[38;5;241m.\u001b[39mconnected:\n\u001b[1;32m--> 306\u001b[0m     \u001b[38;5;28;01mraise\u001b[39;00m exceptions\u001b[38;5;241m.\u001b[39mConnectionError(\u001b[38;5;124m'\u001b[39m\u001b[38;5;124mAlready connected\u001b[39m\u001b[38;5;124m'\u001b[39m)\n\u001b[0;32m    308\u001b[0m \u001b[38;5;28mself\u001b[39m\u001b[38;5;241m.\u001b[39mconnection_url \u001b[38;5;241m=\u001b[39m url\n\u001b[0;32m    309\u001b[0m \u001b[38;5;28mself\u001b[39m\u001b[38;5;241m.\u001b[39mconnection_headers \u001b[38;5;241m=\u001b[39m headers\n",
      "\u001b[1;31mConnectionError\u001b[0m: Already connected"
     ]
    }
   ],
   "source": [
    "umr.setup()"
   ]
  },
  {
   "cell_type": "code",
   "execution_count": 75,
   "id": "c6dd3eb1-4d41-49bb-93c4-3307f3dfd660",
   "metadata": {},
   "outputs": [],
   "source": [
    "# Load the allen atlas\n",
    "from ibllib.atlas import AllenAtlas\n",
    "from ibllib.atlas.regions import BrainRegions\n",
    "atlas = AllenAtlas(100)\n",
    "br = BrainRegions()"
   ]
  },
  {
   "cell_type": "code",
   "execution_count": 72,
   "id": "21b4b937-a157-4e8f-8bc0-b3fa7f71437a",
   "metadata": {},
   "outputs": [
    {
     "name": "stdout",
     "output_type": "stream",
     "text": [
      "Downloading: C:\\Users\\Dan\\Downloads\\ONE\\alyx.internationalbrainlab.org\\histology\\ATLAS\\Needles\\Allen\\average_template_100.nrrd Bytes: 749680\n"
     ]
    },
    {
     "name": "stderr",
     "output_type": "stream",
     "text": [
      "100%|█████████████████████████████████████████████████████████████████████| 749680/749680 [00:00<00:00, 5102915.35it/s]"
     ]
    },
    {
     "name": "stdout",
     "output_type": "stream",
     "text": [
      "Downloading: C:\\Users\\Dan\\Downloads\\ONE\\alyx.internationalbrainlab.org\\histology\\ATLAS\\Needles\\Allen\\annotation_100.nrrd Bytes: 202483\n"
     ]
    },
    {
     "name": "stderr",
     "output_type": "stream",
     "text": [
      "\n",
      "100%|█████████████████████████████████████████████████████████████████████| 202483/202483 [00:00<00:00, 2951506.23it/s]\n",
      "\u001b[36m2022-02-24 21:00:48.203 INFO     [atlas.py:869] computing brain atlas annotations lookup table\u001b[0m\n",
      "\u001b[36m2022-02-24 21:00:48.315 INFO     [atlas.py:878] saving C:\\Users\\Dan\\Downloads\\ONE\\alyx.internationalbrainlab.org\\histology\\ATLAS\\Needles\\Allen\\annotation_100_lut_v01.npz ...\u001b[0m\n"
     ]
    },
    {
     "name": "stdout",
     "output_type": "stream",
     "text": [
      "10.817959308624268\n",
      "10.711557626724243\n",
      "0.02200460433959961\n",
      "18.770399808883667\n",
      "0.018004179000854492\n",
      "0.010001897811889648\n",
      "0.012002706527709961\n",
      "0.18804240226745605\n",
      "0.0\n",
      "0.03802281368821293\n",
      "0.07604562737642585\n",
      "0.11406844106463879\n",
      "0.1520912547528517\n",
      "0.19011406844106463\n",
      "0.22813688212927757\n",
      "0.2661596958174905\n",
      "0.3041825095057034\n",
      "0.34220532319391633\n",
      "0.38022813688212925\n",
      "0.41825095057034223\n",
      "0.45627376425855515\n",
      "0.49429657794676807\n",
      "0.532319391634981\n",
      "0.5703422053231939\n",
      "0.6083650190114068\n",
      "0.6463878326996197\n",
      "0.6844106463878327\n",
      "0.7224334600760456\n",
      "0.7604562737642585\n",
      "0.7984790874524715\n",
      "0.8365019011406845\n",
      "0.8745247148288974\n",
      "0.9125475285171103\n",
      "0.9505703422053232\n",
      "0.9885931558935361\n"
     ]
    }
   ],
   "source": [
    "from needles2.probe_model import ProbeModel\n",
    "res = 100\n",
    "pr = ProbeModel(res=res)\n",
    "pr.initialise()\n",
    "pr.compute_best_for_provenance(provenance='Histology track')\n",
    "first_pass_coverage = pr.report_coverage(provenance='Best', dist=354)"
   ]
  },
  {
   "cell_type": "code",
   "execution_count": 73,
   "id": "ee32183c-cec6-4354-9e5c-b030bd0a0021",
   "metadata": {},
   "outputs": [
    {
     "data": {
      "text/plain": [
       "(132, 114, 80)"
      ]
     },
     "execution_count": 73,
     "metadata": {},
     "output_type": "execute_result"
    }
   ],
   "source": [
    "first_pass_coverage.shape"
   ]
  },
  {
   "cell_type": "code",
   "execution_count": 76,
   "id": "0a25ab4f-8fce-4f3c-975f-b70d2cbdf50f",
   "metadata": {},
   "outputs": [
    {
     "data": {
      "text/plain": [
       "<matplotlib.image.AxesImage at 0x20210324a30>"
      ]
     },
     "execution_count": 76,
     "metadata": {},
     "output_type": "execute_result"
    },
    {
     "data": {
      "image/png": "[encoded data removed]",
      "text/plain": [
       "<Figure size 432x288 with 1 Axes>"
      ]
     },
     "metadata": {
      "needs_background": "light"
     },
     "output_type": "display_data"
    }
   ],
   "source": [
    "plt.imshow(first_pass_coverage[:,:,40])"
   ]
  },
  {
   "cell_type": "code",
   "execution_count": 80,
   "id": "025aca6c-5b4c-4ebf-b538-c65d93fdfd28",
   "metadata": {},
   "outputs": [
    {
     "data": {
      "text/plain": [
       "<matplotlib.image.AxesImage at 0x202003dd1c0>"
      ]
     },
     "execution_count": 80,
     "metadata": {},
     "output_type": "execute_result"
    },
    {
     "data": {
      "image/png": "[encoded data removed]",
      "text/plain": [
       "<Figure size 432x288 with 1 Axes>"
      ]
     },
     "metadata": {
      "needs_background": "light"
     },
     "output_type": "display_data"
    }
   ],
   "source": [
    "plt.imshow(ccf100_cosmos[:,:,40]==315)"
   ]
  },
  {
   "cell_type": "code",
   "execution_count": 78,
   "id": "0908c6c1-8a08-421d-90e9-12c131bc5a1a",
   "metadata": {},
   "outputs": [
    {
     "data": {
      "text/plain": [
       "(132, 80, 114)"
      ]
     },
     "execution_count": 78,
     "metadata": {},
     "output_type": "execute_result"
    }
   ],
   "source": [
    "ccf100, meta = nrrd.read('./annotation_100.nrrd')\n",
    "ccf100_cosmos = br.remap(ccf100, source_map='Allen', target_map='Cosmos')\n",
    "ccf100_cosmos = np.reshape(ccf100_cosmos, ccf100.shape)\n",
    "ccf100_cosmos.shape"
   ]
  },
  {
   "cell_type": "code",
   "execution_count": 69,
   "id": "85cbb4fe-3b0b-4b90-a59e-642ae9468c2e",
   "metadata": {},
   "outputs": [],
   "source": [
    "umr.clear()"
   ]
  },
  {
   "cell_type": "code",
   "execution_count": 84,
   "id": "3e3da6f5-13b8-4cd4-87c2-402f4d83657f",
   "metadata": {},
   "outputs": [],
   "source": [
    "# Go through \n",
    "count = 0\n",
    "dv=40\n",
    "for ap in np.arange(0,132):\n",
    "    for ml in np.arange(0,114):\n",
    "        # for dv in np.arange(0,320):\n",
    "        ann = ccf100_cosmos[ap,dv,ml]\n",
    "        cov = first_pass_coverage[ap,ml,dv]\n",
    "        if (ann==315) and (cov>0):\n",
    "            name = 'n'+str(count)\n",
    "            count+=1\n",
    "            umr.create_neurons([name])\n",
    "            umr.set_neuron_positions({name:[ml*100.0,ap*100.0,dv*100.0]})\n",
    "            if cov==1:\n",
    "                umr.set_neuron_color({name:'#006b00'})\n",
    "            else:\n",
    "                umr.set_neuron_color({name:'#003800'})\n",
    "\n",
    "\n",
    "umr.set_volume_visibility({'Isocortex':True})\n",
    "umr.set_volume_shader({'Isocortex':'transparent'})\n",
    "umr.set_volume_alpha({'Isocortex':0.25})\n",
    "# load them with low alpha transparency\n",
    "# then fill them out with cubes "
   ]
  },
  {
   "cell_type": "code",
   "execution_count": 71,
   "id": "780c16e3-1543-4a4f-bde3-cf6e35bffe19",
   "metadata": {},
   "outputs": [],
   "source": []
  },
  {
   "cell_type": "code",
   "execution_count": 38,
   "id": "6603d6e1-8c5b-4936-89d7-47a2ede5cf5e",
   "metadata": {},
   "outputs": [
    {
     "name": "stdout",
     "output_type": "stream",
     "text": [
      "UnityMouse Renderer connected to server\n",
      "Login sent with ID: Dan\n"
     ]
    }
   ],
   "source": [
    "umr.close()"
   ]
  },
  {
   "cell_type": "code",
   "execution_count": null,
   "id": "16f9b1db-d43e-4b11-a2d5-3d60347c6f27",
   "metadata": {},
   "outputs": [],
   "source": []
  }
 ],
 "metadata": {
  "kernelspec": {
   "display_name": "Python 3 (ipykernel)",
   "language": "python",
   "name": "python3"
  },
  "language_info": {
   "codemirror_mode": {
    "name": "ipython",
    "version": 3
   },
   "file_extension": ".py",
   "mimetype": "text/x-python",
   "name": "python",
   "nbconvert_exporter": "python",
   "pygments_lexer": "ipython3",
   "version": "3.9.9"
  }
 },
 "nbformat": 4,
 "nbformat_minor": 5
}
